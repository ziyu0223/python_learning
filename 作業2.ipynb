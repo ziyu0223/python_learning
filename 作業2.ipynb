{
  "nbformat": 4,
  "nbformat_minor": 0,
  "metadata": {
    "colab": {
      "provenance": [],
      "authorship_tag": "ABX9TyNwrQt2B5P/Q5eEqak+O73R",
      "include_colab_link": true
    },
    "kernelspec": {
      "name": "python3",
      "display_name": "Python 3"
    },
    "language_info": {
      "name": "python"
    }
  },
  "cells": [
    {
      "cell_type": "markdown",
      "metadata": {
        "id": "view-in-github",
        "colab_type": "text"
      },
      "source": [
        "<a href=\"https://colab.research.google.com/github/ziyu0223/python_learning/blob/main/%E4%BD%9C%E6%A5%AD2.ipynb\" target=\"_parent\"><img src=\"https://colab.research.google.com/assets/colab-badge.svg\" alt=\"Open In Colab\"/></a>"
      ]
    },
    {
      "cell_type": "code",
      "execution_count": null,
      "metadata": {
        "colab": {
          "base_uri": "https://localhost:8080/"
        },
        "id": "DnriGLIKGKx4",
        "outputId": "6d54521e-70e3-436d-886b-5c1be604ec06"
      },
      "outputs": [
        {
          "output_type": "stream",
          "name": "stdout",
          "text": [
            "不包含空白共有 127 個字元\n",
            "大道之行也\n",
            "天下為公\n",
            "選賢與能\n",
            "講信修睦\n",
            "故人不獨親其親\n",
            "不獨子其子\n",
            "使老有所終\n",
            "壯有所用\n",
            "幼有所長\n",
            "矜寡孤獨廢疾者\n",
            "皆有所養\n",
            "男有分女有歸\n",
            "貨惡其棄於地也不必藏於己\n",
            "力惡其不出於身也不必為己\n",
            "是故謀閉而不興\n",
            "盜竊亂賊而不作\n",
            "故外戶而不閉\n",
            "是謂「大同」\n",
            "\n",
            "一共有 8 個不\n"
          ]
        }
      ],
      "source": [
        "a=\"\"\"大道之行也，天下為公。選賢與能，講信修睦。故人不獨親其親，不獨子其子；使老有所終，壯有所用，幼有所長，矜寡孤獨廢疾者，皆有所養；男有分女有歸。貨惡其棄於地也不必藏於己；力惡其不出於身也不必為己。是故謀閉而不興，盜竊亂賊而不作，故外戶而不閉，是謂「大同」。\"\"\"\n",
        "b=\"\\n\".join(a.split(\"，\"))\n",
        "c=\"\\n\".join(b.split(\"。\"))\n",
        "d=\"\\n\".join(c.split(\"；\"))\n",
        "\n",
        "print(\"不包含空白共有\",len(a.replace(\" \",\"\")),\"個字元\")\n",
        "print(d)\n",
        "print(\"一共有\",a.count(\"不\"),\"個不\")"
      ]
    }
  ]
}