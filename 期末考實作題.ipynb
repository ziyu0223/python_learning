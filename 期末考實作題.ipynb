{
  "nbformat": 4,
  "nbformat_minor": 0,
  "metadata": {
    "colab": {
      "provenance": [],
      "authorship_tag": "ABX9TyOUvwr/YEdWxs2fHHme3OzK",
      "include_colab_link": true
    },
    "kernelspec": {
      "name": "python3",
      "display_name": "Python 3"
    },
    "language_info": {
      "name": "python"
    }
  },
  "cells": [
    {
      "cell_type": "markdown",
      "metadata": {
        "id": "view-in-github",
        "colab_type": "text"
      },
      "source": [
        "<a href=\"https://colab.research.google.com/github/ziyu0223/python_learning/blob/main/%E6%9C%9F%E6%9C%AB%E8%80%83%E5%AF%A6%E4%BD%9C%E9%A1%8C.ipynb\" target=\"_parent\"><img src=\"https://colab.research.google.com/assets/colab-badge.svg\" alt=\"Open In Colab\"/></a>"
      ]
    },
    {
      "cell_type": "code",
      "source": [
        "import math\n",
        "\n",
        "class City:\n",
        "    def __init__(self, name, coordinates, accommodation_cost):\n",
        "        self.name = name\n",
        "        self.coordinates = coordinates\n",
        "        self.accommodation_cost = accommodation_cost\n",
        "\n",
        "    def calculate_discounted_cost(self, previous_city):\n",
        "        if previous_city in ['C', 'G']:\n",
        "            return 0.8 * self.accommodation_cost\n",
        "        else:\n",
        "            return self.accommodation_cost\n",
        "\n",
        "def calculate_distance(city1, city2):\n",
        "    x1, y1 = city1.coordinates\n",
        "    x2, y2 = city2.coordinates\n",
        "    return math.sqrt((x2 - x1)**2 + (y2 - y1)**2)\n",
        "\n",
        "def find_cheapest_route(start_city):\n",
        "    cities = {\n",
        "        'A': City('A', (0, 0), 2000),\n",
        "        'B': City('B', (0, 120), 2400),\n",
        "        'C': City('C', (30, 100), 2400),\n",
        "        'D': City('D', (80, 0), 1600),\n",
        "        'E': City('E', (45, 10), 1500),\n",
        "        'F': City('F', (90, 160), 2200),\n",
        "        'G': City('G', (120, 200), 1200)\n",
        "    }\n",
        "\n",
        "    num_cities = len(cities)\n",
        "    distance_matrix = [[0] * num_cities for _ in range(num_cities)]\n",
        "    city_keys = list(cities.keys())\n",
        "    for i in range(num_cities):\n",
        "        for j in range(num_cities):\n",
        "            distance_matrix[i][j] = calculate_distance(cities[city_keys[i]], cities[city_keys[j]])\n",
        "\n",
        "    route = [start_city]\n",
        "    total_cost = 0\n",
        "\n",
        "    current_city = start_city\n",
        "    unvisited_cities = set(cities.keys()) - {start_city}\n",
        "\n",
        "    while unvisited_cities:\n",
        "        next_city = min(unvisited_cities, key=lambda city: distance_matrix[city_keys.index(current_city)][city_keys.index(city)])\n",
        "        total_cost += distance_matrix[city_keys.index(current_city)][city_keys.index(next_city)] * 100 + cities[next_city].calculate_discounted_cost(current_city)\n",
        "        route.append(next_city)\n",
        "        unvisited_cities.remove(next_city)\n",
        "        current_city = next_city\n",
        "\n",
        "    return route, total_cost\n",
        "\n",
        "start_city = 'A'\n",
        "route, total_cost = find_cheapest_route(start_city)\n",
        "\n",
        "print(\"最佳旅遊順序:\", \" -> \".join(route))\n",
        "print(\"總花費:\", total_cost)\n"
      ],
      "metadata": {
        "colab": {
          "base_uri": "https://localhost:8080/"
        },
        "id": "Un2mZ8hYNjgS",
        "outputId": "70272255-7b10-4e83-aae4-133e48b23164"
      },
      "execution_count": 25,
      "outputs": [
        {
          "output_type": "stream",
          "name": "stdout",
          "text": [
            "最佳旅遊順序: A -> E -> D -> C -> B -> F -> G\n",
            "總花費: 48704.57613804574\n"
          ]
        }
      ]
    }
  ]
}